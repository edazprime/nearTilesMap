{
 "cells": [
  {
   "cell_type": "code",
   "execution_count": 155,
   "id": "6167b80a",
   "metadata": {},
   "outputs": [],
   "source": [
    "import pandas as pd"
   ]
  },
  {
   "cell_type": "code",
   "execution_count": 156,
   "id": "64083e4c",
   "metadata": {},
   "outputs": [],
   "source": [
    "import folium"
   ]
  },
  {
   "cell_type": "code",
   "execution_count": 157,
   "id": "07047bde",
   "metadata": {},
   "outputs": [],
   "source": [
    "from shapely.geometry import Point, Polygon"
   ]
  },
  {
   "cell_type": "code",
   "execution_count": 158,
   "id": "b6295c23",
   "metadata": {},
   "outputs": [],
   "source": [
    "#map centered in winnipeg\n",
    "m = folium.Map(location=[49.8540, -97.1526], zoom_start=12)"
   ]
  },
  {
   "cell_type": "code",
   "execution_count": 159,
   "id": "143ccfb5",
   "metadata": {},
   "outputs": [],
   "source": [
    "def readOPT(year):\n",
    "    url = './datasets/Orthographic_Photography_Tiles_' + str(year) + '.csv'\n",
    "    df = pd.read_csv(url)\n",
    "    return df"
   ]
  },
  {
   "cell_type": "code",
   "execution_count": 160,
   "id": "44446cf2",
   "metadata": {},
   "outputs": [
    {
     "data": {
      "text/html": [
       "<div>\n",
       "<style scoped>\n",
       "    .dataframe tbody tr th:only-of-type {\n",
       "        vertical-align: middle;\n",
       "    }\n",
       "\n",
       "    .dataframe tbody tr th {\n",
       "        vertical-align: top;\n",
       "    }\n",
       "\n",
       "    .dataframe thead th {\n",
       "        text-align: right;\n",
       "    }\n",
       "</style>\n",
       "<table border=\"1\" class=\"dataframe\">\n",
       "  <thead>\n",
       "    <tr style=\"text-align: right;\">\n",
       "      <th></th>\n",
       "      <th>Year</th>\n",
       "      <th>File Type</th>\n",
       "      <th>File Size</th>\n",
       "      <th>Compression</th>\n",
       "      <th>Resolution</th>\n",
       "      <th>Season</th>\n",
       "      <th>Image File</th>\n",
       "      <th>World File</th>\n",
       "      <th>Location</th>\n",
       "      <th>LocationCln</th>\n",
       "    </tr>\n",
       "  </thead>\n",
       "  <tbody>\n",
       "    <tr>\n",
       "      <th>0</th>\n",
       "      <td>2021</td>\n",
       "      <td>ECW</td>\n",
       "      <td>107MB</td>\n",
       "      <td>1:04</td>\n",
       "      <td>7.5cm</td>\n",
       "      <td>Spring</td>\n",
       "      <td>https://wpgopendata.blob.core.windows.net/orth...</td>\n",
       "      <td>https://wpgopendata.blob.core.windows.net/orth...</td>\n",
       "      <td>POLYGON ((-97.3495399502951 49.808536850369215...</td>\n",
       "      <td>[(49.80854, -97.34954), (49.81528, -97.34931),...</td>\n",
       "    </tr>\n",
       "    <tr>\n",
       "      <th>1</th>\n",
       "      <td>2021</td>\n",
       "      <td>ECW</td>\n",
       "      <td>118MB</td>\n",
       "      <td>1:04</td>\n",
       "      <td>7.5cm</td>\n",
       "      <td>Spring</td>\n",
       "      <td>https://wpgopendata.blob.core.windows.net/orth...</td>\n",
       "      <td>https://wpgopendata.blob.core.windows.net/orth...</td>\n",
       "      <td>POLYGON ((-97.3493105683572 49.81527980829813,...</td>\n",
       "      <td>[(49.81528, -97.34931), (49.82202, -97.34908),...</td>\n",
       "    </tr>\n",
       "  </tbody>\n",
       "</table>\n",
       "</div>"
      ],
      "text/plain": [
       "   Year File Type File Size Compression Resolution  Season  \\\n",
       "0  2021       ECW     107MB        1:04      7.5cm  Spring   \n",
       "1  2021       ECW     118MB        1:04      7.5cm  Spring   \n",
       "\n",
       "                                          Image File  \\\n",
       "0  https://wpgopendata.blob.core.windows.net/orth...   \n",
       "1  https://wpgopendata.blob.core.windows.net/orth...   \n",
       "\n",
       "                                          World File  \\\n",
       "0  https://wpgopendata.blob.core.windows.net/orth...   \n",
       "1  https://wpgopendata.blob.core.windows.net/orth...   \n",
       "\n",
       "                                            Location  \\\n",
       "0  POLYGON ((-97.3495399502951 49.808536850369215...   \n",
       "1  POLYGON ((-97.3493105683572 49.81527980829813,...   \n",
       "\n",
       "                                         LocationCln  \n",
       "0  [(49.80854, -97.34954), (49.81528, -97.34931),...  \n",
       "1  [(49.81528, -97.34931), (49.82202, -97.34908),...  "
      ]
     },
     "execution_count": 160,
     "metadata": {},
     "output_type": "execute_result"
    }
   ],
   "source": [
    "point = Point(49.87674, -97.14463)  # (lat, long), User Input\n",
    "year = 2021                                       #User Input\n",
    "\n",
    "if (year in [2021, 2018, 2016, 2014, 2012, 2009, 2005]):\n",
    "    df = readOPT(year)\n",
    "LocationCln = list(df.Location)\n",
    "for i in range(len(LocationCln)):\n",
    "    LocationCln[i] = LocationCln[i].replace(\"POLYGON\", \"\").strip().replace(\"((\", \"\").replace(\"))\", \"\").split(\", \")\n",
    "    for j in range(len(LocationCln[i])):\n",
    "        LocationCln[i][j] = LocationCln[i][j].split(\" \")\n",
    "        LocationCln[i][j][0] = round(float(LocationCln[i][j][0]), 5)\n",
    "        LocationCln[i][j][1] = round(float(LocationCln[i][j][1]), 5)\n",
    "        temporary_v = LocationCln[i][j][1]\n",
    "        LocationCln[i][j][1] = LocationCln[i][j][0]\n",
    "        LocationCln[i][j][0] = temporary_v\n",
    "        LocationCln[i][j] = (LocationCln[i][j][0], LocationCln[i][j][1])\n",
    "\n",
    "df['LocationCln'] = LocationCln\n",
    "df.head(2)"
   ]
  },
  {
   "cell_type": "code",
   "execution_count": 161,
   "id": "3b41a629",
   "metadata": {},
   "outputs": [],
   "source": [
    "def findPointTile(point, df):\n",
    "    locList = list(df['LocationCln'])\n",
    "    imgFileList = list(df['Image File'])\n",
    "    for i in range(len(locList)):\n",
    "        pol = Polygon(locList[i])\n",
    "        if (point.within(pol)):\n",
    "            lat = [locList[i][0][0], locList[i][1][0], locList[i][2][0]]\n",
    "            long = [locList[i][0][1], locList[i][1][1], locList[i][2][1]]\n",
    "            latAvg = (max(lat) + min(lat)) / 2\n",
    "            longAvg = (max(long) + min(long)) / 2\n",
    "            polygonCenter = (latAvg, longAvg)\n",
    "            #print((imgFileList[i], locList[i], polygonCenter))\n",
    "            return (imgFileList[i], locList[i], polygonCenter)\n",
    "    return (\"not found\", \"not found\", \"not found\")"
   ]
  },
  {
   "cell_type": "code",
   "execution_count": 162,
   "id": "c90ae51b",
   "metadata": {
    "scrolled": true
   },
   "outputs": [
    {
     "data": {
      "text/plain": [
       "<folium.map.Marker at 0x1d6597934c0>"
      ]
     },
     "execution_count": 162,
     "metadata": {},
     "output_type": "execute_result"
    }
   ],
   "source": [
    "urlTag1, tile1Coords, polyg1Center = findPointTile(point, df)\n",
    "tooltip = 'Click for img url (.ecw)'\n",
    "popup1 = '<h1>Your central point</h1><h2>Url to ECW img</h2><h4>'+str(year)+'</h4><strong><a target=\"_blank\" href=\"'+urlTag1+'\">'+ urlTag1+'<a/></strong>'\n",
    "folium.Marker(location=[polyg1Center[0], polyg1Center[1]], popup=popup1, tooltip=tooltip).add_to(m)"
   ]
  },
  {
   "cell_type": "code",
   "execution_count": 163,
   "id": "b2e41c27",
   "metadata": {},
   "outputs": [],
   "source": [
    "def mark(url, pointArr):\n",
    "    popup = '<h1>Url to ECW img</h1><h4>'+str(year)+'</h4><strong><a target=\"_blank\" href=\"'+url+'\">'+ url+'<a/></strong>'\n",
    "    folium.Marker([pointArr[0], pointArr[1]], popup=popup, tooltip=tooltip).add_to(m)"
   ]
  },
  {
   "cell_type": "code",
   "execution_count": 164,
   "id": "9903d3d6",
   "metadata": {},
   "outputs": [],
   "source": [
    "def buildOverlay(polygonCords):\n",
    "    overlay = {\n",
    "      \"type\": \"FeatureCollection\",\n",
    "      \"features\": [\n",
    "        {\n",
    "          \"type\": \"Feature\",\n",
    "          \"properties\": {},\n",
    "          \"geometry\": {\n",
    "            \"type\": \"Polygon\",\n",
    "            \"coordinates\": [\n",
    "              [\n",
    "                [],\n",
    "                [],\n",
    "                [],\n",
    "                [],\n",
    "                []\n",
    "              ]\n",
    "            ]\n",
    "          }\n",
    "        }\n",
    "      ]\n",
    "    }\n",
    "    for i in range(len(polygonCords)):\n",
    "        overlay['features'][0]['geometry']['coordinates'][0][i].append(polygonCords[i][1])\n",
    "        overlay['features'][0]['geometry']['coordinates'][0][i].append(polygonCords[i][0])\n",
    "    return overlay"
   ]
  },
  {
   "cell_type": "code",
   "execution_count": 165,
   "id": "b2f2c3ff",
   "metadata": {},
   "outputs": [
    {
     "data": {
      "text/plain": [
       "<folium.features.GeoJson at 0x1d65a2b3ca0>"
      ]
     },
     "execution_count": 165,
     "metadata": {},
     "output_type": "execute_result"
    }
   ],
   "source": [
    "folium.GeoJson(buildOverlay(tile1Coords), name='').add_to(m)"
   ]
  },
  {
   "cell_type": "code",
   "execution_count": 166,
   "id": "3909bb91",
   "metadata": {},
   "outputs": [],
   "source": [
    "def paintAdjacentTiles(pointCords, polygCords): \n",
    "    for i in range(3):\n",
    "        if(i == 0):\n",
    "            poiC2, polC2 = paintNext(pointCords, polygCords, 'x+')\n",
    "            paintNext(poiC2, polC2, 'y+')\n",
    "            paintNext(poiC2, polC2, 'y-')\n",
    "        elif(i == 1):\n",
    "            poiC2, polC2 = paintNext(pointCords, polygCords, 'x-')\n",
    "            paintNext(poiC2, polC2, 'y+')\n",
    "            paintNext(poiC2, polC2, 'y-')\n",
    "        elif(i == 2):\n",
    "            paintNext(pointCords, polygCords, 'y+')\n",
    "            paintNext(pointCords, polygCords, 'y-')"
   ]
  },
  {
   "cell_type": "code",
   "execution_count": 167,
   "id": "c79d7978",
   "metadata": {},
   "outputs": [],
   "source": [
    "def paintNext(polCenter, polygCoords, orientation):\n",
    "    currPoint = Point(polCenter[0], polCenter[1])\n",
    "    polyg = Polygon(polygCoords)\n",
    "    if(orientation == 'x+'):\n",
    "        while(currPoint.within(polyg)):\n",
    "            currPoint = Point(currPoint.x + 0.0002, currPoint.y)\n",
    "        urlTag2, tile2Coords, polyg2Center = findPointTile(currPoint, df)\n",
    "        mark(urlTag2, polyg2Center)\n",
    "        folium.GeoJson(buildOverlay(tile2Coords), name='').add_to(m)\n",
    "        return (polyg2Center, tile2Coords)\n",
    "    elif(orientation == 'x-'):\n",
    "        while(currPoint.within(polyg)):\n",
    "            currPoint = Point(currPoint.x - 0.0002, currPoint.y)\n",
    "        urlTag2, tile2Coords, polyg2Center = findPointTile(currPoint, df)\n",
    "        mark(urlTag2, polyg2Center)\n",
    "        folium.GeoJson(buildOverlay(tile2Coords), name='').add_to(m)\n",
    "        return (polyg2Center, tile2Coords)\n",
    "    elif(orientation == 'y+'):\n",
    "        while(currPoint.within(polyg)):\n",
    "            currPoint = Point(currPoint.x, currPoint.y + 0.0002)\n",
    "        urlTag2, tile2Coords, polyg2Center = findPointTile(currPoint, df)\n",
    "        mark(urlTag2, polyg2Center)\n",
    "        folium.GeoJson(buildOverlay(tile2Coords), name='').add_to(m)\n",
    "        return (polyg2Center, tile2Coords)\n",
    "    elif(orientation == 'y-'):\n",
    "        while(currPoint.within(polyg)):\n",
    "            currPoint = Point(currPoint.x, currPoint.y - 0.0002)\n",
    "        urlTag2, tile2Coords, polyg2Center = findPointTile(currPoint, df)\n",
    "        mark(urlTag2, polyg2Center)\n",
    "        folium.GeoJson(buildOverlay(tile2Coords), name='').add_to(m)\n",
    "        return (polyg2Center, tile2Coords)"
   ]
  },
  {
   "cell_type": "code",
   "execution_count": 168,
   "id": "b2af33bc",
   "metadata": {},
   "outputs": [],
   "source": [
    "paintAdjacentTiles(polyg1Center, tile1Coords)"
   ]
  },
  {
   "cell_type": "code",
   "execution_count": 169,
   "id": "c7f83f56",
   "metadata": {},
   "outputs": [],
   "source": [
    "m.save('map.html')"
   ]
  }
 ],
 "metadata": {
  "kernelspec": {
   "display_name": "Python 3 (ipykernel)",
   "language": "python",
   "name": "python3"
  },
  "language_info": {
   "codemirror_mode": {
    "name": "ipython",
    "version": 3
   },
   "file_extension": ".py",
   "mimetype": "text/x-python",
   "name": "python",
   "nbconvert_exporter": "python",
   "pygments_lexer": "ipython3",
   "version": "3.9.7"
  }
 },
 "nbformat": 4,
 "nbformat_minor": 5
}
